{
 "cells": [
  {
   "cell_type": "code",
   "execution_count": 9,
   "metadata": {},
   "outputs": [],
   "source": [
    "# Standard library imports\n",
    "import os\n",
    "\n",
    "# Third-party imports\n",
    "import torch\n",
    "import pandas as pd\n",
    "from PIL import Image\n",
    "from tqdm import tqdm\n",
    "from torch.nn.functional import softmax\n",
    "\n",
    "# Transformers imports\n",
    "from transformers import (\n",
    "    AutoTokenizer,\n",
    "    AutoModelForSequenceClassification,\n",
    "    CLIPProcessor,\n",
    "    CLIPModel\n",
    ")\n",
    "\n",
    "# ChromaDB imports\n",
    "import chromadb\n",
    "from chromadb.utils import embedding_functions\n",
    "\n",
    "device = torch.device(\"cuda\" if torch.cuda.is_available() else \"mps\" if torch.backends.mps.is_available() else \"cpu\")"
   ]
  },
  {
   "cell_type": "markdown",
   "metadata": {},
   "source": [
    "## Sentiment Analysis w/ BERT\n",
    "- We can find models on [HuggingFace](https://huggingface.co/models?pipeline_tag=text-classification&sort=trending) that can be used for sentiment analysis!\n",
    "- Let's try using a version of BERT (encoder-only trasnformer) that has been fine-tuned for sentiment analysis (positive vs. negative sentiment)"
   ]
  },
  {
   "cell_type": "code",
   "execution_count": 2,
   "metadata": {},
   "outputs": [],
   "source": [
    "# Load pre-trained DistilBERT model and tokenizer\n",
    "model_name = 'distilbert-base-uncased-finetuned-sst-2-english'\n",
    "tokenizer = AutoTokenizer.from_pretrained(model_name)\n",
    "model = AutoModelForSequenceClassification.from_pretrained(model_name).to(device)\n",
    "\n",
    "def get_sentiment(text):\n",
    "    # Tokenize and prepare input\n",
    "    inputs = tokenizer(text, return_tensors=\"pt\", truncation=True, padding=True).to(device)\n",
    "    \n",
    "    with torch.no_grad():\n",
    "        outputs = model(**inputs) # Get model output\n",
    "    \n",
    "    # Apply softmax to get probabilities of each class (0: negative, 1: positive)\n",
    "    probs = softmax(outputs.logits, dim=-1)\n",
    "    # Get predicted class (0: negative, 1: positive)\n",
    "    predicted_class = torch.argmax(probs, dim=-1).item()\n",
    "    \n",
    "    # Get confidence score\n",
    "    confidence = probs[0][predicted_class].item()\n",
    "    \n",
    "    return \"Positive\" if predicted_class == 1 else \"Negative\", confidence"
   ]
  },
  {
   "cell_type": "code",
   "execution_count": 3,
   "metadata": {},
   "outputs": [
    {
     "name": "stdout",
     "output_type": "stream",
     "text": [
      "Sentiment: Positive, Confidence: 1.00\n"
     ]
    }
   ],
   "source": [
    "# Example usage\n",
    "text = \"This Seattle-Style Chicken Teriyaki Is Delicious Over Rice\"\n",
    "sentiment, confidence = get_sentiment(text)\n",
    "print(f\"Sentiment: {sentiment}, Confidence: {confidence:.2f}\")"
   ]
  },
  {
   "cell_type": "markdown",
   "metadata": {},
   "source": [
    "## Embeddings + Semantic Search w/ CLIP\n",
    "\n",
    "- Embeddings are how represent our input (text, images, etc.) numerically as a vector\n",
    "\n",
    "- We can use many types of models (transformers like BERT or GPT, feedforward neural networks, etc.) to generate embeddings.\n",
    "    - For this example, we'll take take embeddings from a pre-trained model called [CLIP](https://openai.com/index/clip/)\n",
    "        - CLIP embeds text and images in the same vector space (related text + images will be close to each other)\n",
    "\n",
    "- We'll store our embedded vectors in a Vector Database ([ChromaDB](https://trychroma.com/))\n",
    "    - We can then use ChromaDB to do a \"semantic search\" - find images/text that are close in **meaning** to our search query"
   ]
  },
  {
   "cell_type": "code",
   "execution_count": 4,
   "metadata": {},
   "outputs": [],
   "source": [
    "def setup_clip():\n",
    "    \"\"\"Initialize the smallest CLIP model available\"\"\"\n",
    "    model_name = \"openai/clip-vit-base-patch32\"  # Smallest CLIP model\n",
    "    model = CLIPModel.from_pretrained(model_name)\n",
    "    processor = CLIPProcessor.from_pretrained(model_name)\n",
    "    return model, processor\n",
    "\n",
    "def get_clip_embeddings(image_path, text, model, processor):\n",
    "    \"\"\"Get CLIP embeddings for both image and text\"\"\"\n",
    "    # Process image\n",
    "    image = Image.open(image_path)\n",
    "    image_inputs = processor(images=image, return_tensors=\"pt\")\n",
    "    image_features = model.get_image_features(**image_inputs)\n",
    "    image_embedding = image_features.detach().numpy()[0]\n",
    "    \n",
    "    # Process text\n",
    "    text_inputs = processor(text=text, return_tensors=\"pt\", padding=True)\n",
    "    text_features = model.get_text_features(**text_inputs)\n",
    "    text_embedding = text_features.detach().numpy()[0]\n",
    "    \n",
    "    return image_embedding, text_embedding"
   ]
  },
  {
   "cell_type": "code",
   "execution_count": 5,
   "metadata": {},
   "outputs": [],
   "source": [
    "# Load data\n",
    "image_dir = './data' # image data location\n",
    "\n",
    "# Setup CLIP\n",
    "model, processor = setup_clip()\n",
    "\n",
    "# Initialize ChromaDB\n",
    "client = chromadb.Client()\n",
    "collection = client.create_collection(\n",
    "    name=\"image_text_collection\",\n",
    "    metadata={\"hnsw:space\": \"cosine\"} # use cosine similarity\n",
    ")"
   ]
  },
  {
   "cell_type": "code",
   "execution_count": 6,
   "metadata": {},
   "outputs": [],
   "source": [
    "def process_images(image_dir, model, processor):\n",
    "    \"\"\"Process all JPG images in directory\"\"\"\n",
    "    image_embeddings = []\n",
    "    image_ids = []\n",
    "    image_metadatas = []\n",
    "    \n",
    "    for idx, image_file in enumerate(tqdm(os.listdir(image_dir), desc=\"Processing images\")):\n",
    "        if not image_file.lower().endswith('.jpg'):\n",
    "            continue\n",
    "            \n",
    "        image_path = os.path.join(image_dir, image_file)\n",
    "        image = Image.open(image_path)\n",
    "        image_inputs = processor(images=image, return_tensors=\"pt\")\n",
    "        image_features = model.get_image_features(**image_inputs)\n",
    "        image_embedding = image_features.detach().numpy()[0]\n",
    "        \n",
    "        image_embeddings.append(image_embedding)\n",
    "        image_ids.append(f\"img_{idx}\")\n",
    "        image_metadatas.append({\"type\": \"image\", \"path\": image_path})\n",
    "        \n",
    "    return image_embeddings, image_ids, image_metadatas"
   ]
  },
  {
   "cell_type": "code",
   "execution_count": 7,
   "metadata": {},
   "outputs": [
    {
     "name": "stderr",
     "output_type": "stream",
     "text": [
      "huggingface/tokenizers: The current process just got forked, after parallelism has already been used. Disabling parallelism to avoid deadlocks...\n",
      "To disable this warning, you can either:\n",
      "\t- Avoid using `tokenizers` before the fork if possible\n",
      "\t- Explicitly set the environment variable TOKENIZERS_PARALLELISM=(true | false)\n",
      "Processing images: 100%|██████████| 7/7 [00:00<00:00, 16.01it/s]\n"
     ]
    }
   ],
   "source": [
    "# Process images\n",
    "image_embeddings, image_ids, image_metadatas = process_images('./data', model, processor)\n",
    "\n",
    "# Combine and add to ChromaDB\n",
    "collection.add(\n",
    "    embeddings=image_embeddings,\n",
    "    ids=image_ids,\n",
    "    metadatas=image_metadatas\n",
    ")"
   ]
  },
  {
   "cell_type": "code",
   "execution_count": 8,
   "metadata": {},
   "outputs": [
    {
     "name": "stdout",
     "output_type": "stream",
     "text": [
      "\n",
      "Results for query: An Airbus A350\n",
      "similarity: 0.290\n",
      "\t img_1: {'path': './data/4.jpg', 'type': 'image'}\n",
      "\n",
      "Results for query: MS Dhoni\n",
      "similarity: 0.291\n",
      "\t img_6: {'path': './data/0.JPG', 'type': 'image'}\n",
      "\n",
      "Results for query: Michael Schumacher\n",
      "similarity: 0.325\n",
      "\t img_3: {'path': './data/2.jpg', 'type': 'image'}\n",
      "\n",
      "Results for query: Indian cricket team\n",
      "similarity: 0.272\n",
      "\t img_6: {'path': './data/0.JPG', 'type': 'image'}\n",
      "\n",
      "Results for query: Airport\n",
      "similarity: 0.251\n",
      "\t img_1: {'path': './data/4.jpg', 'type': 'image'}\n",
      "\n",
      "Results for query: Formula 1\n",
      "similarity: 0.284\n",
      "\t img_3: {'path': './data/2.jpg', 'type': 'image'}\n",
      "\n",
      "Results for query: Singapore Air\n",
      "similarity: 0.307\n",
      "\t img_1: {'path': './data/4.jpg', 'type': 'image'}\n"
     ]
    }
   ],
   "source": [
    "# Example queries\n",
    "queries = [\n",
    "    \"An Airbus A350\",\n",
    "    \"MS Dhoni\",\n",
    "    \"Michael Schumacher\",\n",
    "    \"Indian cricket team\",\n",
    "    \"Airport\",\n",
    "    \"Formula 1\",\n",
    "    \"Singapore Air\"\n",
    "]\n",
    "\n",
    "# Process queries\n",
    "for query in queries:\n",
    "    # Get query embedding\n",
    "    text_inputs = processor(text=[query], return_tensors=\"pt\", padding=True)\n",
    "    query_features = model.get_text_features(**text_inputs)\n",
    "    query_embedding = query_features.detach().numpy()[0]\n",
    "    \n",
    "    # Search in ChromaDB\n",
    "    results = collection.query(\n",
    "        query_embeddings=[query_embedding],\n",
    "        n_results=1,\n",
    "        include=[\"metadatas\", \"distances\"]\n",
    "    )\n",
    "    \n",
    "    print(f\"\\nResults for query: {query}\")\n",
    "    for idx, (id, metadata, distance) in enumerate(zip(\n",
    "        results['ids'][0], \n",
    "        results['metadatas'][0], \n",
    "        results['distances'][0]\n",
    "    )):\n",
    "        similarity = 1 - distance\n",
    "        print(f\"similarity: {similarity:.3f}\\n\\t {id}: {metadata}\")\n"
   ]
  },
  {
   "cell_type": "code",
   "execution_count": null,
   "metadata": {},
   "outputs": [],
   "source": []
  }
 ],
 "metadata": {
  "kernelspec": {
   "display_name": ".venv",
   "language": "python",
   "name": "python3"
  },
  "language_info": {
   "codemirror_mode": {
    "name": "ipython",
    "version": 3
   },
   "file_extension": ".py",
   "mimetype": "text/x-python",
   "name": "python",
   "nbconvert_exporter": "python",
   "pygments_lexer": "ipython3",
   "version": "3.13.0"
  }
 },
 "nbformat": 4,
 "nbformat_minor": 2
}
