{
  "nbformat": 4,
  "nbformat_minor": 0,
  "metadata": {
    "colab": {
      "provenance": []
    },
    "kernelspec": {
      "name": "python3",
      "display_name": "Python 3"
    },
    "language_info": {
      "name": "python"
    }
  },
  "cells": [
    {
      "cell_type": "markdown",
      "source": [
        "# Survey of Models: Multi-layered Perceptron\n",
        "In this workshop, we'll be learning about specific type of feed-forward neural networks, known as \"Multi-layered Perceptrons.\"\n",
        "\n",
        "Neural Networks generally look like the following:\n",
        "![network.svg](data:image/svg+xml;base64,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)\n",
        "[Source](https://hyperskill.org/learn/step/26997).\n",
        "\n",
        "Each \"node\" consists of a linear transformation on the output of all nodes in the previous layer, as well as an activation function on the output.\n",
        "\n",
        "Multi-layered Perceptrons are the standard form of neural networks, and can be used for a variety of supervised learning tasks.\n",
        "\n",
        "We can classify images, predict stock prices, play chess, and much more."
      ],
      "metadata": {
        "id": "E8GTqWtiBzH2"
      }
    },
    {
      "cell_type": "code",
      "source": [
        "%pip install torch\n",
        "%pip install matplotlib\n",
        "%pip install numpy"
      ],
      "metadata": {
        "id": "ddf_OflkIUi1"
      },
      "execution_count": null,
      "outputs": []
    },
    {
      "cell_type": "code",
      "source": [
        "import torch\n",
        "import torch.nn as nn\n",
        "import torch.nn.functional as F\n",
        "import torch.optim as optim\n",
        "import torchvision\n",
        "\n",
        "import math\n",
        "import random\n",
        "import numpy as np\n",
        "import matplotlib.pyplot as plt"
      ],
      "metadata": {
        "id": "0gcL1mrEI6B7"
      },
      "execution_count": null,
      "outputs": []
    },
    {
      "cell_type": "markdown",
      "source": [
        "First thing's first: let's \"build\" our actual neural network using Pytorch. We'll define the `Network` class which represents our neural network with it's specific configuration. Each object of this class will have the same structure, but different weights."
      ],
      "metadata": {
        "id": "nMHivN-VgCZf"
      }
    },
    {
      "cell_type": "code",
      "source": [
        "class Network(nn.Module):\n",
        "  def __init__(self):\n",
        "    super().__init__()\n",
        "    self.fc1 = nn.Linear(in_features = 28*28, out_features = 120)\n",
        "    self.fc2 = nn.Linear(in_features = 120, out_features = 60)\n",
        "    self.out = nn.Linear(in_features = 60, out_features = 10)\n",
        "\n",
        "  def forward(self, t):\n",
        "    t = torch.flatten(t, start_dim=1)\n",
        "\n",
        "    t = self.fc1(t)\n",
        "    t = F.relu(t)\n",
        "\n",
        "    t = self.fc2(t)\n",
        "    t = F.relu(t)\n",
        "\n",
        "    output = self.out(t)\n",
        "    output = F.softmax(output, dim=1)\n",
        "\n",
        "    return output\n",
        "\n",
        "\n",
        "########## Or use nn.Sequential\" ############\n",
        "# class Network_alternative(nn.Module):\n",
        "#   def __init__(self, in_size):\n",
        "#     super().__init__()\n",
        "#     self.layers = nn.Sequential(\n",
        "#         nn.Linear(in_features = in_size, out_features = 120),\n",
        "#         nn.ReLU(),\n",
        "#         nn.Linear(in_features = 120, out_features = 60),\n",
        "#         nn.ReLU(),\n",
        "#         nn.Linear(in_features = 60, out_features = 10),\n",
        "#         nn.Softmax(dim=1)\n",
        "#     )\n",
        "\n",
        "#   def forward(self, t):\n",
        "#     t = torch.flatten(t, start_dim=1)\n",
        "#     return self.layers(t)\n"
      ],
      "metadata": {
        "id": "TtvjGpZeJBN0"
      },
      "execution_count": null,
      "outputs": []
    },
    {
      "cell_type": "markdown",
      "source": [
        "We define the layers as attributes of this class, and define the forward pass as a method. As you see below, we can call this function just by referencing the object"
      ],
      "metadata": {
        "id": "wzZBrIJegPAQ"
      }
    },
    {
      "cell_type": "code",
      "source": [
        "# Just some dummy data\n",
        "network = Network()\n",
        "print(network, '\\n\\n')\n",
        "\n",
        "dummy_data = torch.rand(5,28,28)\n",
        "output = network(dummy_data)\n",
        "\n",
        "print(output.shape)\n",
        "print(output)\n",
        "print(output[0][0].item())"
      ],
      "metadata": {
        "id": "qN4vl3eLhCEd"
      },
      "execution_count": null,
      "outputs": []
    },
    {
      "cell_type": "markdown",
      "source": [
        "We'll load a dataset called the MNIST dataset. This is a standard dataset used often as a sanity check to see if your neural network is training properly.\n",
        "\n",
        "These are images of numbers, and the neural network trains on the pixels of each image to predict the number it is depicting"
      ],
      "metadata": {
        "id": "wZlfkHtirW2s"
      }
    },
    {
      "cell_type": "code",
      "source": [
        "training_data = torchvision.datasets.MNIST(\n",
        "    root='./data',\n",
        "    train=True,\n",
        "    download=True,\n",
        "    transform=torchvision.transforms.ToTensor()\n",
        "  )\n",
        "\n",
        "test_data = torchvision.datasets.MNIST(\n",
        "    root='./data',\n",
        "    train=False,\n",
        "    download=True,\n",
        "    transform=torchvision.transforms.ToTensor()\n",
        ")"
      ],
      "metadata": {
        "id": "oh7nc1mnlDsR",
        "colab": {
          "base_uri": "https://localhost:8080/"
        },
        "outputId": "eb265902-156e-4ec4-b4ac-b3c57b0c8c51"
      },
      "execution_count": null,
      "outputs": [
        {
          "output_type": "stream",
          "name": "stdout",
          "text": [
            "Downloading http://yann.lecun.com/exdb/mnist/train-images-idx3-ubyte.gz\n",
            "Failed to download (trying next):\n",
            "HTTP Error 404: Not Found\n",
            "\n",
            "Downloading https://ossci-datasets.s3.amazonaws.com/mnist/train-images-idx3-ubyte.gz\n",
            "Downloading https://ossci-datasets.s3.amazonaws.com/mnist/train-images-idx3-ubyte.gz to ./data/MNIST/raw/train-images-idx3-ubyte.gz\n"
          ]
        },
        {
          "output_type": "stream",
          "name": "stderr",
          "text": [
            "100%|██████████| 9.91M/9.91M [00:00<00:00, 16.1MB/s]\n"
          ]
        },
        {
          "output_type": "stream",
          "name": "stdout",
          "text": [
            "Extracting ./data/MNIST/raw/train-images-idx3-ubyte.gz to ./data/MNIST/raw\n",
            "\n",
            "Downloading http://yann.lecun.com/exdb/mnist/train-labels-idx1-ubyte.gz\n",
            "Failed to download (trying next):\n",
            "HTTP Error 404: Not Found\n",
            "\n",
            "Downloading https://ossci-datasets.s3.amazonaws.com/mnist/train-labels-idx1-ubyte.gz\n",
            "Downloading https://ossci-datasets.s3.amazonaws.com/mnist/train-labels-idx1-ubyte.gz to ./data/MNIST/raw/train-labels-idx1-ubyte.gz\n"
          ]
        },
        {
          "output_type": "stream",
          "name": "stderr",
          "text": [
            "100%|██████████| 28.9k/28.9k [00:00<00:00, 466kB/s]\n"
          ]
        },
        {
          "output_type": "stream",
          "name": "stdout",
          "text": [
            "Extracting ./data/MNIST/raw/train-labels-idx1-ubyte.gz to ./data/MNIST/raw\n",
            "\n",
            "Downloading http://yann.lecun.com/exdb/mnist/t10k-images-idx3-ubyte.gz\n",
            "Failed to download (trying next):\n",
            "HTTP Error 404: Not Found\n",
            "\n",
            "Downloading https://ossci-datasets.s3.amazonaws.com/mnist/t10k-images-idx3-ubyte.gz\n",
            "Downloading https://ossci-datasets.s3.amazonaws.com/mnist/t10k-images-idx3-ubyte.gz to ./data/MNIST/raw/t10k-images-idx3-ubyte.gz\n"
          ]
        },
        {
          "output_type": "stream",
          "name": "stderr",
          "text": [
            "100%|██████████| 1.65M/1.65M [00:00<00:00, 3.73MB/s]\n"
          ]
        },
        {
          "output_type": "stream",
          "name": "stdout",
          "text": [
            "Extracting ./data/MNIST/raw/t10k-images-idx3-ubyte.gz to ./data/MNIST/raw\n",
            "\n",
            "Downloading http://yann.lecun.com/exdb/mnist/t10k-labels-idx1-ubyte.gz\n",
            "Failed to download (trying next):\n",
            "HTTP Error 404: Not Found\n",
            "\n",
            "Downloading https://ossci-datasets.s3.amazonaws.com/mnist/t10k-labels-idx1-ubyte.gz\n",
            "Downloading https://ossci-datasets.s3.amazonaws.com/mnist/t10k-labels-idx1-ubyte.gz to ./data/MNIST/raw/t10k-labels-idx1-ubyte.gz\n"
          ]
        },
        {
          "output_type": "stream",
          "name": "stderr",
          "text": [
            "100%|██████████| 4.54k/4.54k [00:00<00:00, 7.19MB/s]"
          ]
        },
        {
          "output_type": "stream",
          "name": "stdout",
          "text": [
            "Extracting ./data/MNIST/raw/t10k-labels-idx1-ubyte.gz to ./data/MNIST/raw\n",
            "\n"
          ]
        },
        {
          "output_type": "stream",
          "name": "stderr",
          "text": [
            "\n"
          ]
        }
      ]
    },
    {
      "cell_type": "code",
      "source": [
        "# NOTICE: 60 000 training samples, 10 000 test samples\n",
        "print(f'len(training_data) = {len(training_data)}')\n",
        "print(f'len(test_data) = {len(test_data)}\\n')\n",
        "\n",
        "# Each sample is a tuple of size 2 -- one tensor, one label\n",
        "print(f'type / len of _data[0]: {len(training_data[0])}, {type(training_data[0])}')\n",
        "\n",
        "# Tensor is the actual image -- 28 x 28\n",
        "print(f'Tensor shape: {training_data[0][0].shape}')\n",
        "print(f'Label: {training_data[0][1]}')"
      ],
      "metadata": {
        "colab": {
          "base_uri": "https://localhost:8080/"
        },
        "id": "v0PPxj3HpX5T",
        "outputId": "7ccc1960-f510-4d6b-c1ce-6a9893bd30c4"
      },
      "execution_count": null,
      "outputs": [
        {
          "output_type": "stream",
          "name": "stdout",
          "text": [
            "len(training_data) = 60000\n",
            "len(test_data) = 10000\n",
            "\n",
            "type / len of _data[0]: 2, <class 'tuple'>\n",
            "Tensor shape: torch.Size([1, 28, 28])\n",
            "Label: 5\n"
          ]
        }
      ]
    },
    {
      "cell_type": "code",
      "source": [
        "plt.imshow(training_data[12][0].squeeze(), cmap='gray')\n",
        "plt.show()"
      ],
      "metadata": {
        "colab": {
          "base_uri": "https://localhost:8080/",
          "height": 430
        },
        "id": "DaqpOWy7bmJV",
        "outputId": "51bc4dbd-941f-40c6-c16c-d1ccfc370d6c"
      },
      "execution_count": null,
      "outputs": [
        {
          "output_type": "display_data",
          "data": {
            "text/plain": [
              "<Figure size 640x480 with 1 Axes>"
            ],
            "image/png": "[encoded data removed]"
          },
          "metadata": {}
        }
      ]
    },
    {
      "cell_type": "markdown",
      "source": [
        "We'll use Pytorch's built in `Dataloader` class to abstract the dataset and iterate over it, pulling batches of a specified size and shuffling the data every epoch."
      ],
      "metadata": {
        "id": "fsR39-DZPcwi"
      }
    },
    {
      "cell_type": "code",
      "source": [
        "from torch.utils.data import DataLoader\n",
        "\n",
        "# DataLoader can wrap any \"dataset\" class that implements a len & get_item function\n",
        "# Pytorch implements MNIST dataset as such a class, but we can build such a class\n",
        "# with any dataset and wrap it with the DataLoader class.\n",
        "\n",
        "train_dataloader = DataLoader(training_data, batch_size = 128, shuffle=True)\n",
        "test_dataloader = DataLoader(test_data, batch_size = 128, shuffle=True)\n",
        "\n",
        "# Each time we \"iterate\" through the dataloader, we get a batch of examples and labels\n",
        "batch = next(iter(train_dataloader))\n",
        "print(f'Type of batch: {type(batch)} ; len of batch: {len(batch)}')\n",
        "print(f'Batch[0]: {batch[0].shape} \\nBatch[1]: {batch[1].shape}')"
      ],
      "metadata": {
        "colab": {
          "base_uri": "https://localhost:8080/"
        },
        "id": "RzK6ewGWZoLf",
        "outputId": "b49b7e7a-8f3e-4f37-9dad-7818cafa7f93"
      },
      "execution_count": null,
      "outputs": [
        {
          "output_type": "stream",
          "name": "stdout",
          "text": [
            "Type of batch: <class 'list'> ; len of batch: 2\n",
            "Batch[0]: torch.Size([128, 1, 28, 28]) \n",
            "Batch[1]: torch.Size([128])\n"
          ]
        }
      ]
    },
    {
      "cell_type": "code",
      "source": [
        "network = Network()\n",
        "LR = 0.01 # Rate at which we update weights\n",
        "EPOCHS = 6 # Num passes thru dataset\n",
        "opt = torch.optim.Adam(network.parameters(), lr=LR) # adam optimizer\n",
        "loss_fn = nn.CrossEntropyLoss()\n",
        "train_losses = []\n",
        "test_losses = []"
      ],
      "metadata": {
        "id": "0KgwiSUpY__8"
      },
      "execution_count": null,
      "outputs": []
    },
    {
      "cell_type": "markdown",
      "source": [
        "Let's define some functions to train our neural network. We want one function to make predictions, calculate loss, backpropagate through the network weights, and update them according to our optimizer function.\n",
        "\n",
        "For our second function, we just want to monitor its performance on the test dataset -- data it hasn't seen before."
      ],
      "metadata": {
        "id": "_ep6kRpNXAqy"
      }
    },
    {
      "cell_type": "code",
      "source": [
        "def train_step(model, examples, labels, optimizer, loss_fn):\n",
        "    optimizer.zero_grad()\n",
        "    predictions = model(examples)\n",
        "    loss = loss_fn(predictions, labels)\n",
        "    loss.backward()\n",
        "    opt.step()\n",
        "    return loss.item()\n",
        "\n",
        "def validate(model, examples, labels, loss_fn):\n",
        "    predictions = model(examples)\n",
        "    loss = loss_fn(predictions, labels)\n",
        "    return loss.item()"
      ],
      "metadata": {
        "id": "HFqPLAjCYZnF"
      },
      "execution_count": null,
      "outputs": []
    },
    {
      "cell_type": "markdown",
      "source": [
        "Let's set up the main training loop! We'll instantiate our `Network` object, define some hyperparameters, and create the main training loop"
      ],
      "metadata": {
        "id": "79SPBJQEf4y1"
      }
    },
    {
      "cell_type": "code",
      "source": [
        "def train(network, EPOCHS, optimizer, train_dataloader, test_dataloader):\n",
        "\n",
        "  for step in range(EPOCHS):\n",
        "    for (examples, labels) in train_dataloader:\n",
        "      train_loss = train_step(network, examples, labels, optimizer, loss_fn)\n",
        "      train_losses.append(train_loss)\n",
        "\n",
        "      test_loss = validate(network, examples, labels, loss_fn)\n",
        "      test_losses.append(test_loss)\n",
        "\n",
        "\n",
        "    # test_loss = 0\n",
        "    # for (examples, labels) in test_dataloader:\n",
        "    #   test_loss += validate(network, examples, labels, loss_fn)\n",
        "\n",
        "    # test_loss /= len(test_dataloader)\n",
        "\n",
        "\n",
        "    print(f'Epoch: {step}, Train Loss: {sum(train_losses[-100:]) / 100:.4f}, Test Loss: {sum(test_losses[-100:]) / 100:.4f}')\n",
        "\n",
        "train(network, EPOCHS, opt, train_dataloader, test_dataloader)"
      ],
      "metadata": {
        "id": "uIPBwK_xJ7oS",
        "colab": {
          "base_uri": "https://localhost:8080/"
        },
        "outputId": "16e62cd4-1bbe-40ea-f9f5-b2d60703c010"
      },
      "execution_count": null,
      "outputs": [
        {
          "output_type": "stream",
          "name": "stdout",
          "text": [
            "Epoch: 0, Train Loss: 1.5999, Test Loss: 1.5871\n",
            "Epoch: 1, Train Loss: 1.5407, Test Loss: 1.5332\n",
            "Epoch: 2, Train Loss: 1.5418, Test Loss: 1.5366\n",
            "Epoch: 3, Train Loss: 1.5243, Test Loss: 1.5214\n",
            "Epoch: 4, Train Loss: 1.5333, Test Loss: 1.5294\n",
            "Epoch: 5, Train Loss: 1.5246, Test Loss: 1.5223\n"
          ]
        }
      ]
    },
    {
      "cell_type": "code",
      "source": [
        "plt.plot(train_losses, label='Train Loss')\n",
        "plt.plot(test_losses, label='Test Loss')\n",
        "plt.legend()\n",
        "plt.show()"
      ],
      "metadata": {
        "colab": {
          "base_uri": "https://localhost:8080/",
          "height": 430
        },
        "id": "jFsOgg3B1YWI",
        "outputId": "1cb67b23-95f9-4f93-f312-dd54b1c6e86c"
      },
      "execution_count": null,
      "outputs": [
        {
          "output_type": "display_data",
          "data": {
            "text/plain": [
              "<Figure size 640x480 with 1 Axes>"
            ],
            "image/png": "[encoded data removed]"
          },
          "metadata": {}
        }
      ]
    },
    {
      "cell_type": "code",
      "source": [
        "test_data_full = DataLoader(test_data, batch_size=len(test_data))\n",
        "examples, labels = next(iter(test_data_full))\n",
        "predictions = network(examples).argmax(dim=1)\n",
        "answers = list(map(bool, labels - predictions))\n",
        "print((len(answers) - sum(answers)) / len(answers))\n",
        "\n"
      ],
      "metadata": {
        "id": "ijgiDjtCLkFS"
      },
      "execution_count": null,
      "outputs": []
    }
  ]
}